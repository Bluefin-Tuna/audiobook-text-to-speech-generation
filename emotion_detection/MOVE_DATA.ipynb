{
 "cells": [
  {
   "cell_type": "code",
   "execution_count": 1,
   "id": "2a5e8351",
   "metadata": {},
   "outputs": [],
   "source": [
    "import os\n",
    "import sys\n",
    "import shutil"
   ]
  },
  {
   "cell_type": "code",
   "execution_count": 2,
   "id": "781e99c4",
   "metadata": {},
   "outputs": [],
   "source": [
    "PATH = \"/home/tanush/DeepLearning/Projects/AudiobookTTS/emotion_detection\"\n",
    "DATASET_PATH = PATH + \"/ravdess\""
   ]
  },
  {
   "cell_type": "code",
   "execution_count": 6,
   "id": "812c7fe6",
   "metadata": {},
   "outputs": [],
   "source": [
    "def retrieve_data(PATH):\n",
    "    data = {\n",
    "        \"masculine\": {\"neutral\": [], \"calm\": [], \"happy\": [], \"sad\": [], \"angry\": [], \"fearful\": [], \"surprise\": [], \"disgust\": []},\n",
    "        \"feminine\": {\"neutral\": [], \"calm\": [], \"happy\": [], \"sad\": [], \"angry\": [], \"fearful\": [], \"surprise\": [], \"disgust\": []}\n",
    "    }\n",
    "    mapping_gender = {0: 'feminine', 1: 'masculine'}\n",
    "    mapping_emotion = {1: 'neutral', 2: 'calm', 3: 'happy', 4: 'sad', 5: 'angry', 6: 'fearful', 7: 'disgust', 8: 'surprise'}\n",
    "    emo = 2\n",
    "    RAVDESS = \"ravdess\"\n",
    "    EMOTIVE = \"emotive_audio\"\n",
    "    DATA_DIR = os.path.join(PATH, RAVDESS)\n",
    "    FINAL_DIR = os.path.join(PATH, EMOTIVE)\n",
    "    actors = os.listdir(DATA_DIR)\n",
    "    for actor in actors:\n",
    "        wav_dir = os.listdir(DATA_DIR + \"/\" + actor)\n",
    "        for wav in wav_dir:\n",
    "            gender_key = mapping_gender[int(wav.split(\"-\")[-1][0:2]) % 2]\n",
    "            emotion_key = mapping_emotion[int(wav.split(\"-\")[emo])]\n",
    "            origin_dir = os.path.join(DATA_DIR, actor, wav)\n",
    "            destination_dir = os.path.join(FINAL_DIR, gender_key, emotion_key, wav)\n",
    "            shutil.move(origin_dir, destination_dir)"
   ]
  },
  {
   "cell_type": "code",
   "execution_count": 7,
   "id": "89511abe",
   "metadata": {},
   "outputs": [],
   "source": [
    "retrieve_data(PATH)"
   ]
  }
 ],
 "metadata": {
  "kernelspec": {
   "display_name": "Python 3",
   "language": "python",
   "name": "python3"
  },
  "language_info": {
   "codemirror_mode": {
    "name": "ipython",
    "version": 3
   },
   "file_extension": ".py",
   "mimetype": "text/x-python",
   "name": "python",
   "nbconvert_exporter": "python",
   "pygments_lexer": "ipython3",
   "version": "3.8.8"
  }
 },
 "nbformat": 4,
 "nbformat_minor": 5
}
